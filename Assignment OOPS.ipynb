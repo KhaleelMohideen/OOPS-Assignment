{
 "cells": [
  {
   "cell_type": "code",
   "execution_count": 3,
   "id": "0f64bbf4",
   "metadata": {},
   "outputs": [
    {
     "name": "stdout",
     "output_type": "stream",
     "text": [
      "83\n"
     ]
    }
   ],
   "source": [
    "class Point:\n",
    "    def __init__(self,x,y,z):\n",
    "        self.x,self.y,self.z = x,y,z\n",
    "    def sqSum(self): \n",
    "        return Point.square_value(self.x)+Point.square_value(self.y)+Point.square_value(self.z)\n",
    "    def square_value(val):\n",
    "        return val ** 2\n",
    "\n",
    "obj = Point(3,5,7)\n",
    "print(obj.sqSum())"
   ]
  },
  {
   "cell_type": "code",
   "execution_count": 6,
   "id": "eb3eefdd",
   "metadata": {},
   "outputs": [
    {
     "name": "stdout",
     "output_type": "stream",
     "text": [
      "263\n",
      "87.66666666666667\n"
     ]
    }
   ],
   "source": [
    "class Student:\n",
    "    def __init__(self,name,phy,chm,bio):\n",
    "        self.name,self.phy,self.chm,self.bio = name,phy,chm,bio   \n",
    "    def Total(self):\n",
    "        return self.phy+self.chm+self.bio\n",
    "    def percentage(self):\n",
    "        return (Student.Total(self) / 300) * 100\n",
    "std = Student(\"Arun Sai\",80,95,88)\n",
    "print(std.Total())\n",
    "print(std.percentage())"
   ]
  },
  {
   "cell_type": "code",
   "execution_count": 8,
   "id": "aac2187b",
   "metadata": {},
   "outputs": [
    {
     "name": "stdout",
     "output_type": "stream",
     "text": [
      "30\n",
      "4\n",
      "221\n",
      "1.3076923076923077\n"
     ]
    }
   ],
   "source": [
    "class Calculator:\n",
    "    def __init__(self,num1,num2):\n",
    "        self.num1,self.num2 = num1,num2\n",
    "    def add(self):\n",
    "        return self.num1+self.num2\n",
    "    def subtract(self):\n",
    "        return self.num1-self.num2\n",
    "    def multiply(self):\n",
    "        return self.num1*self.num2\n",
    "    def divide(self):\n",
    "        return self.num1/self.num2\n",
    "cal = Calculator(17,13)\n",
    "print(cal.add())\n",
    "print(cal.subtract())\n",
    "print(cal.multiply())\n",
    "print(cal.divide())"
   ]
  },
  {
   "cell_type": "code",
   "execution_count": null,
   "id": "f321118d",
   "metadata": {},
   "outputs": [],
   "source": []
  }
 ],
 "metadata": {
  "kernelspec": {
   "display_name": "Python 3 (ipykernel)",
   "language": "python",
   "name": "python3"
  },
  "language_info": {
   "codemirror_mode": {
    "name": "ipython",
    "version": 3
   },
   "file_extension": ".py",
   "mimetype": "text/x-python",
   "name": "python",
   "nbconvert_exporter": "python",
   "pygments_lexer": "ipython3",
   "version": "3.10.2"
  }
 },
 "nbformat": 4,
 "nbformat_minor": 5
}
